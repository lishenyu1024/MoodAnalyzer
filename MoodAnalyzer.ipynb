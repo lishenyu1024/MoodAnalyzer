{
  "nbformat": 4,
  "nbformat_minor": 0,
  "metadata": {
    "colab": {
      "provenance": []
    },
    "kernelspec": {
      "name": "python3",
      "display_name": "Python 3"
    },
    "language_info": {
      "name": "python"
    }
  },
  "cells": [
    {
      "cell_type": "code",
      "execution_count": 2,
      "metadata": {
        "colab": {
          "base_uri": "https://localhost:8080/",
          "height": 76
        },
        "id": "dD1T5aHQIphR",
        "outputId": "3cf05efd-cc4f-4c7e-9c3c-4b8096063fe4"
      },
      "outputs": [
        {
          "output_type": "display_data",
          "data": {
            "text/plain": [
              "<IPython.core.display.HTML object>"
            ],
            "text/html": [
              "\n",
              "     <input type=\"file\" id=\"files-0cc50680-8180-4034-bd49-c43defc7cfa5\" name=\"files[]\" multiple disabled\n",
              "        style=\"border:none\" />\n",
              "     <output id=\"result-0cc50680-8180-4034-bd49-c43defc7cfa5\">\n",
              "      Upload widget is only available when the cell has been executed in the\n",
              "      current browser session. Please rerun this cell to enable.\n",
              "      </output>\n",
              "      <script>// Copyright 2017 Google LLC\n",
              "//\n",
              "// Licensed under the Apache License, Version 2.0 (the \"License\");\n",
              "// you may not use this file except in compliance with the License.\n",
              "// You may obtain a copy of the License at\n",
              "//\n",
              "//      http://www.apache.org/licenses/LICENSE-2.0\n",
              "//\n",
              "// Unless required by applicable law or agreed to in writing, software\n",
              "// distributed under the License is distributed on an \"AS IS\" BASIS,\n",
              "// WITHOUT WARRANTIES OR CONDITIONS OF ANY KIND, either express or implied.\n",
              "// See the License for the specific language governing permissions and\n",
              "// limitations under the License.\n",
              "\n",
              "/**\n",
              " * @fileoverview Helpers for google.colab Python module.\n",
              " */\n",
              "(function(scope) {\n",
              "function span(text, styleAttributes = {}) {\n",
              "  const element = document.createElement('span');\n",
              "  element.textContent = text;\n",
              "  for (const key of Object.keys(styleAttributes)) {\n",
              "    element.style[key] = styleAttributes[key];\n",
              "  }\n",
              "  return element;\n",
              "}\n",
              "\n",
              "// Max number of bytes which will be uploaded at a time.\n",
              "const MAX_PAYLOAD_SIZE = 100 * 1024;\n",
              "\n",
              "function _uploadFiles(inputId, outputId) {\n",
              "  const steps = uploadFilesStep(inputId, outputId);\n",
              "  const outputElement = document.getElementById(outputId);\n",
              "  // Cache steps on the outputElement to make it available for the next call\n",
              "  // to uploadFilesContinue from Python.\n",
              "  outputElement.steps = steps;\n",
              "\n",
              "  return _uploadFilesContinue(outputId);\n",
              "}\n",
              "\n",
              "// This is roughly an async generator (not supported in the browser yet),\n",
              "// where there are multiple asynchronous steps and the Python side is going\n",
              "// to poll for completion of each step.\n",
              "// This uses a Promise to block the python side on completion of each step,\n",
              "// then passes the result of the previous step as the input to the next step.\n",
              "function _uploadFilesContinue(outputId) {\n",
              "  const outputElement = document.getElementById(outputId);\n",
              "  const steps = outputElement.steps;\n",
              "\n",
              "  const next = steps.next(outputElement.lastPromiseValue);\n",
              "  return Promise.resolve(next.value.promise).then((value) => {\n",
              "    // Cache the last promise value to make it available to the next\n",
              "    // step of the generator.\n",
              "    outputElement.lastPromiseValue = value;\n",
              "    return next.value.response;\n",
              "  });\n",
              "}\n",
              "\n",
              "/**\n",
              " * Generator function which is called between each async step of the upload\n",
              " * process.\n",
              " * @param {string} inputId Element ID of the input file picker element.\n",
              " * @param {string} outputId Element ID of the output display.\n",
              " * @return {!Iterable<!Object>} Iterable of next steps.\n",
              " */\n",
              "function* uploadFilesStep(inputId, outputId) {\n",
              "  const inputElement = document.getElementById(inputId);\n",
              "  inputElement.disabled = false;\n",
              "\n",
              "  const outputElement = document.getElementById(outputId);\n",
              "  outputElement.innerHTML = '';\n",
              "\n",
              "  const pickedPromise = new Promise((resolve) => {\n",
              "    inputElement.addEventListener('change', (e) => {\n",
              "      resolve(e.target.files);\n",
              "    });\n",
              "  });\n",
              "\n",
              "  const cancel = document.createElement('button');\n",
              "  inputElement.parentElement.appendChild(cancel);\n",
              "  cancel.textContent = 'Cancel upload';\n",
              "  const cancelPromise = new Promise((resolve) => {\n",
              "    cancel.onclick = () => {\n",
              "      resolve(null);\n",
              "    };\n",
              "  });\n",
              "\n",
              "  // Wait for the user to pick the files.\n",
              "  const files = yield {\n",
              "    promise: Promise.race([pickedPromise, cancelPromise]),\n",
              "    response: {\n",
              "      action: 'starting',\n",
              "    }\n",
              "  };\n",
              "\n",
              "  cancel.remove();\n",
              "\n",
              "  // Disable the input element since further picks are not allowed.\n",
              "  inputElement.disabled = true;\n",
              "\n",
              "  if (!files) {\n",
              "    return {\n",
              "      response: {\n",
              "        action: 'complete',\n",
              "      }\n",
              "    };\n",
              "  }\n",
              "\n",
              "  for (const file of files) {\n",
              "    const li = document.createElement('li');\n",
              "    li.append(span(file.name, {fontWeight: 'bold'}));\n",
              "    li.append(span(\n",
              "        `(${file.type || 'n/a'}) - ${file.size} bytes, ` +\n",
              "        `last modified: ${\n",
              "            file.lastModifiedDate ? file.lastModifiedDate.toLocaleDateString() :\n",
              "                                    'n/a'} - `));\n",
              "    const percent = span('0% done');\n",
              "    li.appendChild(percent);\n",
              "\n",
              "    outputElement.appendChild(li);\n",
              "\n",
              "    const fileDataPromise = new Promise((resolve) => {\n",
              "      const reader = new FileReader();\n",
              "      reader.onload = (e) => {\n",
              "        resolve(e.target.result);\n",
              "      };\n",
              "      reader.readAsArrayBuffer(file);\n",
              "    });\n",
              "    // Wait for the data to be ready.\n",
              "    let fileData = yield {\n",
              "      promise: fileDataPromise,\n",
              "      response: {\n",
              "        action: 'continue',\n",
              "      }\n",
              "    };\n",
              "\n",
              "    // Use a chunked sending to avoid message size limits. See b/62115660.\n",
              "    let position = 0;\n",
              "    do {\n",
              "      const length = Math.min(fileData.byteLength - position, MAX_PAYLOAD_SIZE);\n",
              "      const chunk = new Uint8Array(fileData, position, length);\n",
              "      position += length;\n",
              "\n",
              "      const base64 = btoa(String.fromCharCode.apply(null, chunk));\n",
              "      yield {\n",
              "        response: {\n",
              "          action: 'append',\n",
              "          file: file.name,\n",
              "          data: base64,\n",
              "        },\n",
              "      };\n",
              "\n",
              "      let percentDone = fileData.byteLength === 0 ?\n",
              "          100 :\n",
              "          Math.round((position / fileData.byteLength) * 100);\n",
              "      percent.textContent = `${percentDone}% done`;\n",
              "\n",
              "    } while (position < fileData.byteLength);\n",
              "  }\n",
              "\n",
              "  // All done.\n",
              "  yield {\n",
              "    response: {\n",
              "      action: 'complete',\n",
              "    }\n",
              "  };\n",
              "}\n",
              "\n",
              "scope.google = scope.google || {};\n",
              "scope.google.colab = scope.google.colab || {};\n",
              "scope.google.colab._files = {\n",
              "  _uploadFiles,\n",
              "  _uploadFilesContinue,\n",
              "};\n",
              "})(self);\n",
              "</script> "
            ]
          },
          "metadata": {}
        },
        {
          "output_type": "stream",
          "name": "stdout",
          "text": [
            "Saving synthetic_social_media_data.csv to synthetic_social_media_data.csv\n"
          ]
        }
      ],
      "source": [
        "from google.colab import files\n",
        "uploaded = files.upload()\n"
      ]
    },
    {
      "cell_type": "code",
      "source": [
        "import pandas as pd\n",
        "\n",
        "\n",
        "data = pd.read_csv(\"synthetic_social_media_data.csv\")\n",
        "\n",
        "print(data.head())\n"
      ],
      "metadata": {
        "colab": {
          "base_uri": "https://localhost:8080/"
        },
        "id": "PDUevlf1L8QG",
        "outputId": "2e458300-e697-48a5-c2e2-0402f079c1ff"
      },
      "execution_count": 3,
      "outputs": [
        {
          "output_type": "stream",
          "name": "stdout",
          "text": [
            "                                Post ID  \\\n",
            "0  aa391375-7355-44b7-bcbf-97fb4e5a2ba3   \n",
            "1  1c9ec98d-437a-48d9-9cba-bd5ad853c59a   \n",
            "2  170e5b5b-1d9a-4d02-a957-93c4dbb18908   \n",
            "3  aec53496-60ee-4a06-8821-093a04dc8770   \n",
            "4  4eacddb7-990d-4056-8784-7e1d5c4d1404   \n",
            "\n",
            "                                        Post Content Sentiment Label  \\\n",
            "0  Word who nor center everything better politica...         Neutral   \n",
            "1  Begin administration population good president...        Positive   \n",
            "2  Thousand total sign. Agree product relationshi...        Positive   \n",
            "3  Individual from news third. Oil forget them di...         Neutral   \n",
            "4  Time adult letter see reduce. Attention sudden...        Negative   \n",
            "\n",
            "   Number of Likes  Number of Shares  Number of Comments  User Follower Count  \\\n",
            "0              157               243                  64                 4921   \n",
            "1              166                49                 121                  612   \n",
            "2              185               224                 179                 9441   \n",
            "3              851               369                  39                 6251   \n",
            "4              709               356                  52                 1285   \n",
            "\n",
            "    Post Date and Time Post Type Language  \n",
            "0  2024-01-10 00:14:21     video       fr  \n",
            "1  2024-02-03 00:20:11     image       es  \n",
            "2  2024-07-25 14:20:23     video       de  \n",
            "3  2024-02-20 09:15:09      text       de  \n",
            "4  2024-03-01 04:17:35     image       de  \n"
          ]
        }
      ]
    },
    {
      "cell_type": "code",
      "source": [],
      "metadata": {
        "id": "ZvFYOekDAV5n"
      },
      "execution_count": null,
      "outputs": []
    },
    {
      "cell_type": "markdown",
      "source": [
        ":) begin!!"
      ],
      "metadata": {
        "id": "tIOHSinQI-AZ"
      }
    },
    {
      "cell_type": "code",
      "source": [
        "#1. Check the structure and missing values ​​of the data\n",
        "#First, check the data in more detail to understand the columns and data types of the data and check whether there are any missing values.#\n",
        "\n",
        "# View basic information of the data, such as data type and missing values\n",
        "print(data.info())\n",
        "\n",
        "# View statistical information of the data (mean, standard deviation, etc. of numerical data)\n",
        "print(data.describe())\n",
        "\n",
        "# Check if there are missing values\n",
        "print(data.isnull().sum())\n",
        "\n",
        "data = data.dropna()\n"
      ],
      "metadata": {
        "colab": {
          "base_uri": "https://localhost:8080/"
        },
        "id": "z44cnk1XL6d2",
        "outputId": "76dca6a5-9d48-4bb9-96b5-83e18fa33871"
      },
      "execution_count": 9,
      "outputs": [
        {
          "output_type": "stream",
          "name": "stdout",
          "text": [
            "<class 'pandas.core.frame.DataFrame'>\n",
            "RangeIndex: 2000 entries, 0 to 1999\n",
            "Data columns (total 10 columns):\n",
            " #   Column               Non-Null Count  Dtype \n",
            "---  ------               --------------  ----- \n",
            " 0   Post ID              2000 non-null   object\n",
            " 1   Post Content         2000 non-null   object\n",
            " 2   Sentiment Label      2000 non-null   object\n",
            " 3   Number of Likes      2000 non-null   int64 \n",
            " 4   Number of Shares     2000 non-null   int64 \n",
            " 5   Number of Comments   2000 non-null   int64 \n",
            " 6   User Follower Count  2000 non-null   int64 \n",
            " 7   Post Date and Time   2000 non-null   object\n",
            " 8   Post Type            2000 non-null   object\n",
            " 9   Language             2000 non-null   object\n",
            "dtypes: int64(4), object(6)\n",
            "memory usage: 156.4+ KB\n",
            "None\n",
            "       Number of Likes  Number of Shares  Number of Comments  \\\n",
            "count      2000.000000        2000.00000         2000.000000   \n",
            "mean        503.379000         248.48500          102.805000   \n",
            "std         283.210866         145.09499           58.032886   \n",
            "min           1.000000           0.00000            0.000000   \n",
            "25%         267.000000         121.00000           52.000000   \n",
            "50%         505.000000         248.50000          104.500000   \n",
            "75%         740.000000         375.00000          153.250000   \n",
            "max        1000.000000         500.00000          200.000000   \n",
            "\n",
            "       User Follower Count  \n",
            "count          2000.000000  \n",
            "mean           5005.777000  \n",
            "std            2913.865254  \n",
            "min               3.000000  \n",
            "25%            2383.250000  \n",
            "50%            5048.500000  \n",
            "75%            7556.500000  \n",
            "max            9999.000000  \n",
            "Post ID                0\n",
            "Post Content           0\n",
            "Sentiment Label        0\n",
            "Number of Likes        0\n",
            "Number of Shares       0\n",
            "Number of Comments     0\n",
            "User Follower Count    0\n",
            "Post Date and Time     0\n",
            "Post Type              0\n",
            "Language               0\n",
            "dtype: int64\n"
          ]
        }
      ]
    },
    {
      "cell_type": "code",
      "source": [
        "#2. Data type conversion\n",
        "#Next, need to check whether the data type of each column is suitable for machine learning.\n",
        "\n",
        "\n",
        "#From the information, the Post Content column is text data,\n",
        "#which needs to be converted into numerical features before it can be input into the machine learning model.\n",
        "#use TF-IDF or bag-of-words model for conversion.#\n",
        "\n",
        "# version1:TfidfVectorizer accuracy 31%\n",
        "# from sklearn.feature_extraction.text import TfidfVectorizer\n",
        "\n",
        "# # Extract text data\n",
        "# texts = data['Post Content']\n",
        "\n",
        "# # Initialize TF-IDF Vectorizer\n",
        "# tfidf_vectorizer = TfidfVectorizer(max_features=10000, ngram_range=(1, 2)) # Limit the maximum number of features to 10000\n",
        "# X_text = tfidf_vectorizer.fit_transform(texts).toarray()\n",
        "\n",
        "# print(X_text.shape)\n",
        "\n",
        "# #version2:CountVectorizer\n",
        "from sklearn.feature_extraction.text import CountVectorizer\n",
        "\n",
        "# Use CountVectorizer instead of TfidfVectorizer\n",
        "count_vectorizer = CountVectorizer(max_features=10000, ngram_range=(1, 2))  # Capture both unigrams and bigrams\n",
        "X_text = count_vectorizer.fit_transform(texts).toarray()\n",
        "\n",
        "\n",
        "print(X_text.shape)\n",
        "\n"
      ],
      "metadata": {
        "colab": {
          "base_uri": "https://localhost:8080/"
        },
        "id": "CzxRVzHnN0uJ",
        "outputId": "21ba1a1b-f398-4a70-cbc3-1c537925ab5f"
      },
      "execution_count": 14,
      "outputs": [
        {
          "output_type": "stream",
          "name": "stdout",
          "text": [
            "(2000, 10000)\n"
          ]
        }
      ]
    },
    {
      "cell_type": "code",
      "source": [
        "# For categorical data like Post Type and Language, use One-Hot Encoding or Label Encoding to convert to numeric values.\n",
        "\n",
        "# from sklearn.preprocessing import OneHotEncoder\n",
        "\n",
        "# from sklearn.compose import ColumnTransformer\n",
        "\n",
        "# # Assume 'Post Type' and 'Language' are categorical data\n",
        "# categorical_features = ['Post Type', 'Language']\n",
        "\n",
        "# # OneHot Encode categorical data\n",
        "# preprocessor = ColumnTransformer(\n",
        "# transformers=[\n",
        "# ('cat', OneHotEncoder(), categorical_features)\n",
        "# ])\n",
        "\n",
        "# X_cat = preprocessor.fit_transform(data)\n",
        "\n",
        "# print(X_cat.shape)\n",
        "from sklearn.preprocessing import OneHotEncoder, StandardScaler\n",
        "from sklearn.compose import ColumnTransformer\n",
        "import numpy as np\n",
        "\n",
        "# Step 1: Text feature processing (e.g. using TF-IDF)\n",
        "from sklearn.feature_extraction.text import TfidfVectorizer\n",
        "tfidf_vectorizer = TfidfVectorizer(max_features=5000)\n",
        "X_text = tfidf_vectorizer.fit_transform(data['Post Content']).toarray()\n",
        "\n",
        "# Step 2: Numerical feature standardization\n",
        "numerical_features = ['Number of Likes', 'Number of Shares', 'User Follower Count']\n",
        "scaler = StandardScaler()\n",
        "X_num = scaler.fit_transform(data[numerical_features])\n",
        "\n",
        "# Step 3: One-Hot encoding of categorical features\n",
        "categorical_features = ['Post Type', 'Language']\n",
        "preprocessor = ColumnTransformer(\n",
        "transformers=[\n",
        "('cat', OneHotEncoder(), categorical_features)\n",
        "]\n",
        ")\n",
        "X_cat = preprocessor.fit_transform(data)\n",
        "\n",
        "# Step 4: Merge all features\n",
        "X = np.hstack([X_text, X_cat.toarray(), X_num]) # Merge text, categorical, and numerical features\n",
        "print(X.shape)\n",
        "\n",
        "\n",
        "\n"
      ],
      "metadata": {
        "colab": {
          "base_uri": "https://localhost:8080/"
        },
        "id": "n7ue8_S0P-3O",
        "outputId": "dde5ef6a-d15a-4cc8-ea86-fdc3697b64ac"
      },
      "execution_count": 15,
      "outputs": [
        {
          "output_type": "stream",
          "name": "stdout",
          "text": [
            "(2000, 980)\n"
          ]
        }
      ]
    },
    {
      "cell_type": "code",
      "source": [
        "# 3. Processing numerical data\n",
        "#For numerical data such as Number of Likes and Number of Shares, perform Normalization or Standardization.\n",
        "\n",
        "from sklearn.preprocessing import StandardScaler\n",
        "\n",
        "# Select numerical feature columns\n",
        "numerical_features = ['Number of Likes', 'Number of Shares', 'Number of Comments', 'User Follower Count']\n",
        "\n",
        "# Standardize numerical data\n",
        "scaler = StandardScaler()\n",
        "X_num = scaler.fit_transform(data[numerical_features])\n",
        "\n",
        "print(X_num.shape)\n"
      ],
      "metadata": {
        "colab": {
          "base_uri": "https://localhost:8080/"
        },
        "id": "kP10u9PJQLcB",
        "outputId": "c78f146f-4489-4be1-e72c-9504439e71fa"
      },
      "execution_count": 16,
      "outputs": [
        {
          "output_type": "stream",
          "name": "stdout",
          "text": [
            "(2000, 4)\n"
          ]
        }
      ]
    },
    {
      "cell_type": "code",
      "source": [
        "# 4. Merge all features\n",
        "# Merge the processed text features (X_text), category features (X_cat), and numerical features (X_num) into an overall feature matrix X\n",
        "\n",
        "import numpy as np\n",
        "\n",
        "# Merge text features, category features, and numerical features\n",
        "X = np.hstack([X_text, X_cat.toarray(), X_num])\n",
        "\n",
        "# View the merged data\n",
        "print(X.shape)\n"
      ],
      "metadata": {
        "colab": {
          "base_uri": "https://localhost:8080/"
        },
        "id": "SHx3Co50QaR_",
        "outputId": "76cecbd4-d2a6-4816-9e54-445abed9ec28"
      },
      "execution_count": 17,
      "outputs": [
        {
          "output_type": "stream",
          "name": "stdout",
          "text": [
            "(2000, 981)\n"
          ]
        }
      ]
    },
    {
      "cell_type": "code",
      "source": [
        "# 5. Processing label data\n",
        "#For the target variable Sentiment Label, you need to convert it into a digital form. Generally speaking, the labels for sentiment analysis are usually categorical data (e.g. Positive, Negative, Neutral). Try using Label Encoding.\n",
        "\n",
        "from sklearn.preprocessing import LabelEncoder\n",
        "\n",
        "# Encode the sentiment label\n",
        "label_encoder = LabelEncoder()\n",
        "y = label_encoder.fit_transform(data['Sentiment Label'])\n",
        "\n",
        "# View the label\n",
        "print(np.unique(y))"
      ],
      "metadata": {
        "colab": {
          "base_uri": "https://localhost:8080/"
        },
        "id": "XgFZTCicRCnP",
        "outputId": "d04bdf3e-33c5-4882-be9d-d4b7222f009e"
      },
      "execution_count": 18,
      "outputs": [
        {
          "output_type": "stream",
          "name": "stdout",
          "text": [
            "[0 1 2]\n"
          ]
        }
      ]
    },
    {
      "cell_type": "code",
      "source": [
        "# 6. Split the dataset\n",
        "#Split the dataset into training and test sets. This time I will use 80% training set and 20% test set.\n",
        "from sklearn.model_selection import train_test_split\n",
        "\n",
        "X_train, X_test, y_train, y_test = train_test_split(X, y, test_size=0.2, random_state=42)\n",
        "\n",
        "# View the shape of the data after splitting\n",
        "print(X_train.shape, X_test.shape)"
      ],
      "metadata": {
        "colab": {
          "base_uri": "https://localhost:8080/"
        },
        "id": "ncNChUV0RKLM",
        "outputId": "72da663d-63ba-4c8a-dc08-539af522c415"
      },
      "execution_count": 19,
      "outputs": [
        {
          "output_type": "stream",
          "name": "stdout",
          "text": [
            "(1600, 981) (400, 981)\n"
          ]
        }
      ]
    },
    {
      "cell_type": "code",
      "source": [
        "\n",
        "\n",
        "\n",
        "import numpy as np\n",
        "from sklearn.utils.class_weight import compute_class_weight\n",
        "from sklearn.metrics import confusion_matrix, classification_report\n",
        "import seaborn as sns\n",
        "import matplotlib.pyplot as plt\n",
        "from tensorflow.keras.callbacks import EarlyStopping\n",
        "from tensorflow.keras.layers import Dropout, Dense, Input\n",
        "from tensorflow.keras.models import Sequential\n",
        "from tensorflow.keras.optimizers import Adam\n",
        "from tensorflow.keras.optimizers.schedules import ExponentialDecay\n",
        "from imblearn.over_sampling import SMOTE\n",
        "from collections import Counter\n",
        "# Assume that the original label of y is 0 (Negative), 1 (Neutral), 2 (Positive)\n",
        "# 1. Merge labels into two categories\n",
        "# Merge 0 and 1 into class 0, and keep 2 as class 1\n",
        "y_binary = np.where(y == 2, 1, 0) # 0 means Negative + Neutral, 1 means Positive\n",
        "\n",
        "# 2. Merge all features\n",
        "X = np.hstack([X_text, X_cat.toarray(), X_num])\n",
        "print(f\"Feature shape: {X.shape}\")\n",
        "\n",
        "# 3. Divide the dataset\n",
        "from sklearn.model_selection import train_test_split\n",
        "X_train, X_test, y_train, y_test = train_test_split(X, y_binary, test_size=0.2, random_state=42)\n",
        "\n",
        "# 4. Apply SMOTE Oversampling\n",
        "smote = SMOTE(random_state=42)\n",
        "X_train_resampled, y_train_resampled = smote.fit_resample(X_train, y_train)\n",
        "print(f\"Resampled class distribution: {Counter(y_train_resampled)}\")\n",
        "\n",
        "# 5. Calculate class weights\n",
        "class_weights = compute_class_weight(\n",
        "class_weight='balanced',\n",
        "classes=np.unique(y_train_resampled),\n",
        "y=y_train_resampled\n",
        ")\n",
        "class_weight_dict = dict(enumerate(class_weights))\n",
        "print(f\"Class weights: {class_weight_dict}\")\n",
        "\n",
        "# 6. Build model\n",
        "model = Sequential()\n",
        "\n",
        "# Input layer\n",
        "model.add(Input(shape=(X_train.shape[1],)))\n",
        "\n",
        "# Hidden layer\n",
        "model.add(Dense(64, activation='relu'))\n",
        "model.add(Dropout(0.6))\n",
        "model.add(Dense(32, activation='relu'))\n",
        "model.add(Dropout(0.6))\n",
        "\n",
        "# Output layer (1 neuron + sigmoid activation function)\n",
        "model.add(Dense(1, activation='sigmoid'))\n",
        "\n",
        "# 7. Compile model\n",
        "initial_lr = 0.005\n",
        "lr_schedule = ExponentialDecay(\n",
        "initial_learning_rate=initial_lr,\n",
        "decay_steps=100000,\n",
        "decay_rate=0.99,\n",
        "staircase=True\n",
        ")\n",
        "model.compile(optimizer=Adam(learning_rate=lr_schedule), loss='binary_crossentropy', metrics=['accuracy'])\n",
        "\n",
        "# 8. Early stopping mechanism\n",
        "early_stopping = EarlyStopping(monitor='val_loss', patience=20, restore_best_weights=True)\n",
        "\n",
        "# 9. Train the model\n",
        "history = model.fit(\n",
        "X_train_resampled, y_train_resampled,\n",
        "epochs=20,\n",
        "batch_size=32,\n",
        "validation_data=(X_test, y_test),\n",
        "callbacks=[early_stopping],\n",
        "class_weight=class_weight_dict\n",
        ")\n",
        "\n",
        "# 10. Evaluate the model\n",
        "test_loss, test_accuracy = model.evaluate(X_test, y_test)\n",
        "print(f\"Test Accuracy: {test_accuracy}\")\n",
        "\n",
        "# 11. Predictions and confusion matrix\n",
        "y_pred_prob = model.predict(X_test)\n",
        "y_pred = (y_pred_prob > 0.5).astype(int)\n",
        "\n",
        "# Confusion matrix\n",
        "cm = confusion_matrix(y_test, y_pred)\n",
        "plt.figure(figsize=(8, 6))\n",
        "sns.heatmap(cm, annot=True, fmt='d', cmap='Blues', xticklabels=['Negative+Neutral', 'Positive'], yticklabels=['Negative+Neutral', 'Positive'])\n",
        "plt.xlabel('Predicted')\n",
        "plt.ylabel('True')\n",
        "plt.title('Confusion Matrix')\n",
        "plt.show() # Classification report print(classification_report(y_test, y_pred, target_names=['Negative+Neutral', 'Positive']))\n",
        "\n"
      ],
      "metadata": {
        "colab": {
          "base_uri": "https://localhost:8080/",
          "height": 1000
        },
        "id": "df-mh2ktRUp0",
        "outputId": "e9afda09-7e52-438e-9f4c-494dbd7b8064"
      },
      "execution_count": 20,
      "outputs": [
        {
          "output_type": "stream",
          "name": "stdout",
          "text": [
            "Feature shape: (2000, 981)\n",
            "Resampled class distribution: Counter({0: 1087, 1: 1087})\n",
            "Class weights: {0: 1.0, 1: 1.0}\n",
            "Epoch 1/20\n",
            "\u001b[1m68/68\u001b[0m \u001b[32m━━━━━━━━━━━━━━━━━━━━\u001b[0m\u001b[37m\u001b[0m \u001b[1m2s\u001b[0m 4ms/step - accuracy: 0.4943 - loss: 0.6994 - val_accuracy: 0.5975 - val_loss: 0.6839\n",
            "Epoch 2/20\n",
            "\u001b[1m68/68\u001b[0m \u001b[32m━━━━━━━━━━━━━━━━━━━━\u001b[0m\u001b[37m\u001b[0m \u001b[1m0s\u001b[0m 2ms/step - accuracy: 0.5614 - loss: 0.6831 - val_accuracy: 0.6150 - val_loss: 0.6755\n",
            "Epoch 3/20\n",
            "\u001b[1m68/68\u001b[0m \u001b[32m━━━━━━━━━━━━━━━━━━━━\u001b[0m\u001b[37m\u001b[0m \u001b[1m0s\u001b[0m 2ms/step - accuracy: 0.6540 - loss: 0.6257 - val_accuracy: 0.6075 - val_loss: 0.6918\n",
            "Epoch 4/20\n",
            "\u001b[1m68/68\u001b[0m \u001b[32m━━━━━━━━━━━━━━━━━━━━\u001b[0m\u001b[37m\u001b[0m \u001b[1m0s\u001b[0m 2ms/step - accuracy: 0.7472 - loss: 0.5291 - val_accuracy: 0.5750 - val_loss: 0.7441\n",
            "Epoch 5/20\n",
            "\u001b[1m68/68\u001b[0m \u001b[32m━━━━━━━━━━━━━━━━━━━━\u001b[0m\u001b[37m\u001b[0m \u001b[1m0s\u001b[0m 2ms/step - accuracy: 0.8177 - loss: 0.4352 - val_accuracy: 0.5600 - val_loss: 0.8882\n",
            "Epoch 6/20\n",
            "\u001b[1m68/68\u001b[0m \u001b[32m━━━━━━━━━━━━━━━━━━━━\u001b[0m\u001b[37m\u001b[0m \u001b[1m0s\u001b[0m 3ms/step - accuracy: 0.8623 - loss: 0.3340 - val_accuracy: 0.5800 - val_loss: 0.9371\n",
            "Epoch 7/20\n",
            "\u001b[1m68/68\u001b[0m \u001b[32m━━━━━━━━━━━━━━━━━━━━\u001b[0m\u001b[37m\u001b[0m \u001b[1m0s\u001b[0m 2ms/step - accuracy: 0.8995 - loss: 0.2578 - val_accuracy: 0.6025 - val_loss: 1.0880\n",
            "Epoch 8/20\n",
            "\u001b[1m68/68\u001b[0m \u001b[32m━━━━━━━━━━━━━━━━━━━━\u001b[0m\u001b[37m\u001b[0m \u001b[1m0s\u001b[0m 2ms/step - accuracy: 0.9370 - loss: 0.1988 - val_accuracy: 0.5675 - val_loss: 1.1336\n",
            "Epoch 9/20\n",
            "\u001b[1m68/68\u001b[0m \u001b[32m━━━━━━━━━━━━━━━━━━━━\u001b[0m\u001b[37m\u001b[0m \u001b[1m0s\u001b[0m 2ms/step - accuracy: 0.9271 - loss: 0.2066 - val_accuracy: 0.5825 - val_loss: 1.2898\n",
            "Epoch 10/20\n",
            "\u001b[1m68/68\u001b[0m \u001b[32m━━━━━━━━━━━━━━━━━━━━\u001b[0m\u001b[37m\u001b[0m \u001b[1m0s\u001b[0m 2ms/step - accuracy: 0.9536 - loss: 0.1401 - val_accuracy: 0.5900 - val_loss: 1.4825\n",
            "Epoch 11/20\n",
            "\u001b[1m68/68\u001b[0m \u001b[32m━━━━━━━━━━━━━━━━━━━━\u001b[0m\u001b[37m\u001b[0m \u001b[1m0s\u001b[0m 2ms/step - accuracy: 0.9479 - loss: 0.1388 - val_accuracy: 0.5825 - val_loss: 1.5249\n",
            "Epoch 12/20\n",
            "\u001b[1m68/68\u001b[0m \u001b[32m━━━━━━━━━━━━━━━━━━━━\u001b[0m\u001b[37m\u001b[0m \u001b[1m0s\u001b[0m 2ms/step - accuracy: 0.9542 - loss: 0.1367 - val_accuracy: 0.5800 - val_loss: 1.5718\n",
            "Epoch 13/20\n",
            "\u001b[1m68/68\u001b[0m \u001b[32m━━━━━━━━━━━━━━━━━━━━\u001b[0m\u001b[37m\u001b[0m \u001b[1m0s\u001b[0m 2ms/step - accuracy: 0.9426 - loss: 0.1380 - val_accuracy: 0.5775 - val_loss: 1.6175\n",
            "Epoch 14/20\n",
            "\u001b[1m68/68\u001b[0m \u001b[32m━━━━━━━━━━━━━━━━━━━━\u001b[0m\u001b[37m\u001b[0m \u001b[1m0s\u001b[0m 2ms/step - accuracy: 0.9569 - loss: 0.1101 - val_accuracy: 0.5975 - val_loss: 1.7628\n",
            "Epoch 15/20\n",
            "\u001b[1m68/68\u001b[0m \u001b[32m━━━━━━━━━━━━━━━━━━━━\u001b[0m\u001b[37m\u001b[0m \u001b[1m0s\u001b[0m 2ms/step - accuracy: 0.9594 - loss: 0.1007 - val_accuracy: 0.6000 - val_loss: 1.9164\n",
            "Epoch 16/20\n",
            "\u001b[1m68/68\u001b[0m \u001b[32m━━━━━━━━━━━━━━━━━━━━\u001b[0m\u001b[37m\u001b[0m \u001b[1m0s\u001b[0m 2ms/step - accuracy: 0.9662 - loss: 0.0962 - val_accuracy: 0.5850 - val_loss: 1.9770\n",
            "Epoch 17/20\n",
            "\u001b[1m68/68\u001b[0m \u001b[32m━━━━━━━━━━━━━━━━━━━━\u001b[0m\u001b[37m\u001b[0m \u001b[1m0s\u001b[0m 2ms/step - accuracy: 0.9593 - loss: 0.0892 - val_accuracy: 0.5875 - val_loss: 1.9574\n",
            "Epoch 18/20\n",
            "\u001b[1m68/68\u001b[0m \u001b[32m━━━━━━━━━━━━━━━━━━━━\u001b[0m\u001b[37m\u001b[0m \u001b[1m0s\u001b[0m 2ms/step - accuracy: 0.9705 - loss: 0.0851 - val_accuracy: 0.5900 - val_loss: 2.1389\n",
            "Epoch 19/20\n",
            "\u001b[1m68/68\u001b[0m \u001b[32m━━━━━━━━━━━━━━━━━━━━\u001b[0m\u001b[37m\u001b[0m \u001b[1m0s\u001b[0m 2ms/step - accuracy: 0.9718 - loss: 0.0898 - val_accuracy: 0.5700 - val_loss: 2.0487\n",
            "Epoch 20/20\n",
            "\u001b[1m68/68\u001b[0m \u001b[32m━━━━━━━━━━━━━━━━━━━━\u001b[0m\u001b[37m\u001b[0m \u001b[1m0s\u001b[0m 2ms/step - accuracy: 0.9711 - loss: 0.0816 - val_accuracy: 0.5700 - val_loss: 2.0231\n",
            "\u001b[1m13/13\u001b[0m \u001b[32m━━━━━━━━━━━━━━━━━━━━\u001b[0m\u001b[37m\u001b[0m \u001b[1m0s\u001b[0m 1ms/step - accuracy: 0.6260 - loss: 0.6676 \n",
            "Test Accuracy: 0.6150000095367432\n",
            "\u001b[1m13/13\u001b[0m \u001b[32m━━━━━━━━━━━━━━━━━━━━\u001b[0m\u001b[37m\u001b[0m \u001b[1m0s\u001b[0m 3ms/step \n"
          ]
        },
        {
          "output_type": "display_data",
          "data": {
            "text/plain": [
              "<Figure size 800x600 with 2 Axes>"
            ],
            "image/png": "[encoded data removed]"
          },
          "metadata": {}
        }
      ]
    },
    {
      "cell_type": "code",
      "source": [
        "#8. Train the model\n",
        "#Now, the exciting part is to train the model using the training data：）\n",
        "# Train the model\n",
        "history = model.fit(X_train, y_train, epochs=10, batch_size=32, validation_data=(X_test, y_test))\n",
        "\n",
        "# View the accuracy and loss during training\n",
        "import matplotlib.pyplot as plt\n",
        "\n",
        "plt.plot(history.history['accuracy'], label='accuracy')\n",
        "plt.plot(history.history['val_accuracy'], label = 'val_accuracy')\n",
        "plt.xlabel('Epoch')\n",
        "plt.ylabel('Accuracy')\n",
        "plt.legend()\n",
        "plt.show()"
      ],
      "metadata": {
        "colab": {
          "base_uri": "https://localhost:8080/",
          "height": 796
        },
        "id": "1NjBTuyCSgsd",
        "outputId": "ee29cb66-2239-45c6-dc28-2d100c357dc7"
      },
      "execution_count": 21,
      "outputs": [
        {
          "output_type": "stream",
          "name": "stdout",
          "text": [
            "Epoch 1/10\n",
            "\u001b[1m50/50\u001b[0m \u001b[32m━━━━━━━━━━━━━━━━━━━━\u001b[0m\u001b[37m\u001b[0m \u001b[1m1s\u001b[0m 3ms/step - accuracy: 0.6535 - loss: 0.6158 - val_accuracy: 0.6725 - val_loss: 0.6632\n",
            "Epoch 2/10\n",
            "\u001b[1m50/50\u001b[0m \u001b[32m━━━━━━━━━━━━━━━━━━━━\u001b[0m\u001b[37m\u001b[0m \u001b[1m0s\u001b[0m 2ms/step - accuracy: 0.6990 - loss: 0.5830 - val_accuracy: 0.6700 - val_loss: 0.6709\n",
            "Epoch 3/10\n",
            "\u001b[1m50/50\u001b[0m \u001b[32m━━━━━━━━━━━━━━━━━━━━\u001b[0m\u001b[37m\u001b[0m \u001b[1m0s\u001b[0m 2ms/step - accuracy: 0.7544 - loss: 0.5150 - val_accuracy: 0.6150 - val_loss: 0.7435\n",
            "Epoch 4/10\n",
            "\u001b[1m50/50\u001b[0m \u001b[32m━━━━━━━━━━━━━━━━━━━━\u001b[0m\u001b[37m\u001b[0m \u001b[1m0s\u001b[0m 2ms/step - accuracy: 0.8022 - loss: 0.4364 - val_accuracy: 0.6325 - val_loss: 0.7598\n",
            "Epoch 5/10\n",
            "\u001b[1m50/50\u001b[0m \u001b[32m━━━━━━━━━━━━━━━━━━━━\u001b[0m\u001b[37m\u001b[0m \u001b[1m0s\u001b[0m 2ms/step - accuracy: 0.8432 - loss: 0.3752 - val_accuracy: 0.6275 - val_loss: 0.8205\n",
            "Epoch 6/10\n",
            "\u001b[1m50/50\u001b[0m \u001b[32m━━━━━━━━━━━━━━━━━━━━\u001b[0m\u001b[37m\u001b[0m \u001b[1m0s\u001b[0m 3ms/step - accuracy: 0.8704 - loss: 0.3368 - val_accuracy: 0.5925 - val_loss: 0.8878\n",
            "Epoch 7/10\n",
            "\u001b[1m50/50\u001b[0m \u001b[32m━━━━━━━━━━━━━━━━━━━━\u001b[0m\u001b[37m\u001b[0m \u001b[1m0s\u001b[0m 4ms/step - accuracy: 0.8829 - loss: 0.2996 - val_accuracy: 0.6225 - val_loss: 1.0153\n",
            "Epoch 8/10\n",
            "\u001b[1m50/50\u001b[0m \u001b[32m━━━━━━━━━━━━━━━━━━━━\u001b[0m\u001b[37m\u001b[0m \u001b[1m0s\u001b[0m 3ms/step - accuracy: 0.8958 - loss: 0.2444 - val_accuracy: 0.5925 - val_loss: 1.0244\n",
            "Epoch 9/10\n",
            "\u001b[1m50/50\u001b[0m \u001b[32m━━━━━━━━━━━━━━━━━━━━\u001b[0m\u001b[37m\u001b[0m \u001b[1m0s\u001b[0m 3ms/step - accuracy: 0.9147 - loss: 0.2178 - val_accuracy: 0.6050 - val_loss: 1.1088\n",
            "Epoch 10/10\n",
            "\u001b[1m50/50\u001b[0m \u001b[32m━━━━━━━━━━━━━━━━━━━━\u001b[0m\u001b[37m\u001b[0m \u001b[1m0s\u001b[0m 5ms/step - accuracy: 0.9351 - loss: 0.1781 - val_accuracy: 0.6075 - val_loss: 1.2079\n"
          ]
        },
        {
          "output_type": "display_data",
          "data": {
            "text/plain": [
              "<Figure size 640x480 with 1 Axes>"
            ],
            "image/png": "[encoded data removed]"
          },
          "metadata": {}
        }
      ]
    },
    {
      "cell_type": "code",
      "source": [
        "#9. Evaluate the model\n",
        "#After training, evaluate the performance of the model.\n",
        "#Evaluate the model\n",
        "test_loss, test_accuracy = model.evaluate(X_test, y_test)\n",
        "print(f\"Test Accuracy: {test_accuracy}\")"
      ],
      "metadata": {
        "colab": {
          "base_uri": "https://localhost:8080/"
        },
        "id": "YhwAkoQKS5ZO",
        "outputId": "5515bf89-6fac-410e-92b6-62370f8b14f0"
      },
      "execution_count": 22,
      "outputs": [
        {
          "output_type": "stream",
          "name": "stdout",
          "text": [
            "\u001b[1m13/13\u001b[0m \u001b[32m━━━━━━━━━━━━━━━━━━━━\u001b[0m\u001b[37m\u001b[0m \u001b[1m0s\u001b[0m 1ms/step - accuracy: 0.6015 - loss: 1.1586 \n",
            "Test Accuracy: 0.6075000166893005\n"
          ]
        }
      ]
    }
  ]
}